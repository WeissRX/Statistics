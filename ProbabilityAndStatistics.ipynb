{
 "cells": [
  {
   "cell_type": "code",
   "execution_count": 5,
   "id": "83458e1d",
   "metadata": {
    "hide_input": false
   },
   "outputs": [],
   "source": [
    "import pandas as pd\n",
    "import numpy as np\n",
    "import matplotlib.pyplot as plt\n",
    "import seaborn as sns\n",
    "\n",
    "from scipy.stats import norm"
   ]
  },
  {
   "cell_type": "code",
   "execution_count": 1,
   "id": "409cd1ec",
   "metadata": {},
   "outputs": [],
   "source": [
    "from sympy import *"
   ]
  },
  {
   "cell_type": "markdown",
   "id": "9ad62135",
   "metadata": {},
   "source": [
    "# Foundations"
   ]
  },
  {
   "cell_type": "markdown",
   "id": "e02f14a1",
   "metadata": {},
   "source": [
    "## Random Events & Probability"
   ]
  },
  {
   "cell_type": "markdown",
   "id": "4f362133",
   "metadata": {},
   "source": [
    "### Probability of Random Events"
   ]
  },
  {
   "cell_type": "markdown",
   "id": "dfe790d2",
   "metadata": {},
   "source": [
    "#### Classical"
   ]
  },
  {
   "cell_type": "markdown",
   "id": "af3ddb44",
   "metadata": {},
   "source": [
    "##### Set of Exhaustive Events"
   ]
  },
  {
   "cell_type": "markdown",
   "id": "e366c8c7",
   "metadata": {},
   "source": [
    "If $A_i \\cap A_j = \\emptyset, i \\neq j$, and $\\cup_{k=1}^n A_k = \\Omega$, then the set $\\{A_1, A_2, ..., A_n\\}$ is a Set of Exhaustive Events."
   ]
  },
  {
   "cell_type": "markdown",
   "id": "c633e5cd",
   "metadata": {},
   "source": [
    "#### Geometric"
   ]
  },
  {
   "cell_type": "markdown",
   "id": "2fd73ccf",
   "metadata": {},
   "source": [
    "### Operations"
   ]
  },
  {
   "cell_type": "markdown",
   "id": "e538e5ee",
   "metadata": {},
   "source": [
    "#### Union"
   ]
  },
  {
   "cell_type": "markdown",
   "id": "9e798791",
   "metadata": {},
   "source": [
    "$$p(A\\cup B) = p(A) + p(B) -  p(A\\cap B)$$\n",
    "\n",
    "If $A$ and $B$ are incompatible events, then:\n",
    "\n",
    "$$p(A\\cup B) = p(A) + p(B)$$"
   ]
  },
  {
   "cell_type": "markdown",
   "id": "d5b2eb67",
   "metadata": {},
   "source": [
    "#### Intersect"
   ]
  },
  {
   "cell_type": "markdown",
   "id": "6d930855",
   "metadata": {},
   "source": []
  },
  {
   "cell_type": "markdown",
   "id": "f8cdd155",
   "metadata": {},
   "source": [
    "#### Except"
   ]
  },
  {
   "cell_type": "markdown",
   "id": "67c01625",
   "metadata": {},
   "source": [
    "### Conditional Probability"
   ]
  },
  {
   "cell_type": "markdown",
   "id": "c7bec112",
   "metadata": {},
   "source": [
    "$$p(A|B) = \\frac{p(A,B)}{p(B)}$$"
   ]
  },
  {
   "cell_type": "markdown",
   "id": "6d4eab7f",
   "metadata": {},
   "source": [
    "$$p(A_1, A_2, \\cdots, A_n) = p(A_1)p(A_2|A_1)p(A_3|A_1,A_2)\\cdots p(A_n)p(A_1, A_2,\\cdots, A_{n-1})$$"
   ]
  },
  {
   "cell_type": "markdown",
   "id": "7cc41df0",
   "metadata": {},
   "source": [
    "#### Independence"
   ]
  },
  {
   "cell_type": "markdown",
   "id": "a4a4974e",
   "metadata": {},
   "source": [
    "If $p(B|A)=p(B)\\lor p(A|B)=p(A)$, then $A$ and $B$ are independent.\n",
    "\n",
    "Under this circumstance,\n",
    "\n",
    "$$p(A,B) = p(A)p(B)$$\n",
    "\n",
    "If there are $n$ independent events $A_i, i=1,2,\\cdots, n$, then,\n",
    "$$p(A_1, A_2, \\cdots, A_n) = \\prod_{i=1}^np(A_i)$$"
   ]
  },
  {
   "cell_type": "markdown",
   "id": "538d2567",
   "metadata": {},
   "source": [
    "#### Conditional Independence"
   ]
  },
  {
   "cell_type": "markdown",
   "id": "4afba211",
   "metadata": {},
   "source": [
    "If $p(A|B,C)=p(A|C)$, then $A$ and $B$ are conditionally independent regarding event $C$, articulated as:\n",
    "\n",
    "$$A\\perp B|C$$\n",
    "\n",
    "$$p(A,B|C) = p(A|B,C)p(B|C) = p(B|A,C)p(A|C) = p(A|C)p(B|C)$$"
   ]
  },
  {
   "cell_type": "markdown",
   "id": "b6ff63e3",
   "metadata": {},
   "source": [
    "### Causal Reasoning"
   ]
  },
  {
   "cell_type": "markdown",
   "id": "4d1c616b",
   "metadata": {},
   "source": [
    "#### Law of Total Probability (Cause $\\rightarrow$ Effect)"
   ]
  },
  {
   "cell_type": "markdown",
   "id": "e7395d4c",
   "metadata": {},
   "source": [
    "If the set $\\{C_1, C_2, ..., C_n\\}$ is a Set of Exhaustive Events, and $p(C_i)>0$, then $\\forall E$,\n",
    "\n",
    "$$p(E) = \\sum_{i=1}^np(C_i)p(E|C_i)$$"
   ]
  },
  {
   "cell_type": "markdown",
   "id": "d818b3fa",
   "metadata": {},
   "source": [
    "#### Bayes' Theorem (Cause $\\leftarrow$ Effect)"
   ]
  },
  {
   "cell_type": "markdown",
   "id": "057eb8df",
   "metadata": {},
   "source": [
    "$$p(C|E) = \\frac{p(C)p(E|C)}{p(E)}$$"
   ]
  },
  {
   "cell_type": "markdown",
   "id": "f0dd6608",
   "metadata": {},
   "source": [
    "If the set $C = \\{C_1, C_2, ..., C_n\\}$ is a Set of Exhaustive Events, and $p(C_i)>0,p(E)>0$, then for the $\\xi$-th event $C_{\\xi}$,\n",
    "\n",
    "$$p(C_{\\xi}|E) = \\frac{p(C_{\\xi})p(E|C_{\\xi})}{p(E)} = \\frac{p(C_{\\xi})p(E|C_{\\xi})}{\\sum_{i=1}^np(C_i)p(E|C_i)}$$\n",
    "\n",
    "If event $C$ is Cause, $E$ is Effect, then $p(C)$ is called Prior Probability (先验概率) (已提前知晓原因的值), $p(C|E)$ called Posterior Probability (后验概率)（得到结果后才知道原因）, $p(E|C)$ called Likelihood Function."
   ]
  },
  {
   "cell_type": "markdown",
   "id": "189071b0",
   "metadata": {},
   "source": [
    "# Distributions"
   ]
  },
  {
   "cell_type": "markdown",
   "id": "a995398d",
   "metadata": {},
   "source": [
    "Probability Mass Function (PMF): $p(x_i)$ (for discrete variables) / Probability Density Function (PDF): $f(x)$ (for continuous variables).\n",
    "\n",
    "Cumulative Distribution Function (CDF):\n",
    "\n",
    "$$F_X(x) = p(X \\leq x) = \\begin{cases}\\sum_{X_i\\leq x}p(X = X_i) & X\\text{ is discrete}\\\\ \\int_{-\\infty}^{x}f(t)\\text{d}t & X\\text{ is continuous}\\end{cases}$$\n",
    "\n",
    "$$\n",
    "\\begin{array}{|c|c|c|c|c|c|}\n",
    "\\hline\n",
    "\\textbf{Distribution} & \\textbf{PMF (Dis) / PDF (Con)} & \\textbf{CDF} & \\textbf{E}\\boldsymbol{(X)} & \\textbf{Var}\\boldsymbol{(X)}&\\boldsymbol{\\mu'_k}\\\\\n",
    "\\hline\n",
    "\\textbf{Bernoulli (0-1): } X\\sim B(p) & p(X = x) = p^x(1-p)^{1-x}, x\\in \\{0,1\\} & & p & p(1-p) \\\\ \n",
    "\\textbf{Binominal: } X \\sim B(n,p)\\ & p(X = k)=\\binom{n}{k}p^k(1-p)^{n-k},k\\in \\mathbb{N} &  & np & np(1-p)\\\\\n",
    "\\textbf{Multi-nominal}\\\\\n",
    "\\hline\n",
    "\\textbf{Geometric: } X \\sim G(P) & p(X=k) =(1-p)^{k-1}p, k\\in\\mathbb{N}^+& F(k) = 1-(1-p)^k & \\frac{1}{p} & \\frac{1-p}{p^2} \\\\\n",
    "\\textbf{Hyper-geometric:} \\\\\n",
    "\\hline\n",
    "\\textbf{Uniform: } X \\sim U(a,b) & f(x)=\\begin{cases}\\frac{1}{b-a} & ,a\\leq x\\leq b\\\\0 & ,\\text{other}\\end{cases} & F(x) = \\begin{cases}0 & ,x<a \\\\ \\frac{x-a}{b-a} & ,a\\leq x < b \\\\1 & ,b\\leq x\\end{cases}& \\frac{a+b}{2} & \\frac{(b-a)^2}{12}\\\\\n",
    "\\hline\n",
    "\\textbf{Poisson: } X \\sim P(\\lambda) & P(X = k)=\\frac{\\lambda^k}{k!}e^{-\\lambda},k\\in \\mathbb{N}\\text{ and }\\lambda>0 & & \\lambda & \\lambda\\\\\n",
    "\\hline\n",
    "\\textbf{Exponential: } X \\sim E(\\lambda) & f(x) = \\begin{cases}\\lambda e^{-\\lambda x} & ,x>0 \\\\ 0 & ,x\\leq 0 \\end{cases}, \\lambda>0 & F(x) = \\begin{cases}1-e^{-\\lambda x} & ,x>0 \\\\ 0 & ,x\\leq 0 \\end{cases}, \\lambda>0 & \\frac{1}{\\lambda} & \\frac{1}{\\lambda^2} & \\frac{k!}{\\lambda^k}\\\\\n",
    "\\hline\n",
    "\\textbf{Normal: } X \\sim N(\\mu,\\sigma^2) & f(x)=\\frac{1}{\\sqrt{2\\pi}\\sigma}e^{-\\frac{(x-\\mu)^2}{2\\sigma^2}},x \\in \\mathbb{R} & F(x) = \\frac{1}{\\sqrt{2\\pi}\\sigma}\\int_{-\\infty}^xe^{-\\frac{(t-\\mu)^2}{2\\sigma^2}}\\text{d}t & \\mu & \\sigma^2 & \\begin{cases}1\\times3\\times5\\times\\cdots\\times(k-1)\\sigma^k &\\text{, if } k \\text{ is even} \\\\ 0 &\\text{, if } k \\text{ is odd}\\end{cases}\\\\\n",
    "\\text{Standard: } X \\sim N(0,1) & \\phi(x) = \\frac{1}{\\sqrt{2\\pi}}e^{-\\frac{x^2}{2}}, x \\in \\mathbb{R} & \\Phi(x) = \\frac{1}{\\sqrt{2\\pi}}\\int_{-\\infty}^xe^{-\\frac{t^2}{2}}\\text{d}t & 0 & 1 \\\\\n",
    "\\hline\n",
    "\\textbf{Standard Logistic} & f(x) = \\frac{e^{-x}}{(1+e^{-x})^2}& F(x) = \\frac{1}{1+e^{-x}} & 0 & \\frac{\\pi^2}{3}\\\\\n",
    "\\hline\n",
    "\\textbf{Chi-square: } \\chi^2 \\sim \\chi^2(\\nu) & & & \\nu & 2\\nu\\\\\n",
    "\\hline\n",
    "\\boldsymbol{t:} T\\sim t(\\nu)\\\\\n",
    "\\hline\n",
    "\\boldsymbol{F:} F\\sim F(n_1,n_2)\\\\\n",
    "\\hline\n",
    "\\end{array}\n",
    "$$"
   ]
  },
  {
   "cell_type": "markdown",
   "id": "977a351e",
   "metadata": {},
   "source": [
    "## Random Variable Distribution"
   ]
  },
  {
   "cell_type": "markdown",
   "id": "2c3e8654",
   "metadata": {},
   "source": [
    "## Sampling Distribution"
   ]
  },
  {
   "cell_type": "markdown",
   "id": "61b8f048",
   "metadata": {},
   "source": [
    "### $\\chi^2$ Distribution: $X\\sim\\chi^2(\\nu)$ or $\\chi^2\\sim\\chi^2(\\nu)$"
   ]
  },
  {
   "cell_type": "markdown",
   "id": "ad2efc5e",
   "metadata": {},
   "source": [
    "#### Definition"
   ]
  },
  {
   "cell_type": "markdown",
   "id": "04a4fd21",
   "metadata": {},
   "source": [
    "For $X_1, X_2, \\cdots, X_\\nu$, if (i) $X_i, X_j, i \\neq j$ are independent, (ii) $X_1, X_2, \\cdots, X_\\nu \\sim N(0,1)$, and (iii) $\\chi^2 = \\sum_{i=1}^\\nu X_i^2$, then:\n",
    "\n",
    "$$X=\\chi^2\\sim \\chi^2(\\nu)$$\n",
    "\n",
    "where $\\nu$ denotes the Degree of Freedom."
   ]
  },
  {
   "cell_type": "markdown",
   "id": "01e683a3",
   "metadata": {},
   "source": [
    "#### Properties"
   ]
  },
  {
   "cell_type": "markdown",
   "id": "20c98334",
   "metadata": {},
   "source": [
    "### $t$ Distribution"
   ]
  },
  {
   "cell_type": "markdown",
   "id": "e3b2349e",
   "metadata": {},
   "source": [
    "For two independent random varibles $X$ with $X\\sim N(0,1)$ and $Y$ with $Y\\sim \\chi^2(\\nu)$, then:\n",
    "\n",
    "$$T=\\frac{X}{\\sqrt{Y/n}}\\sim t(\\nu)$$"
   ]
  },
  {
   "cell_type": "markdown",
   "id": "0d0f91a4",
   "metadata": {},
   "source": [
    "### $F$ Distribution"
   ]
  },
  {
   "cell_type": "markdown",
   "id": "2c06aecf",
   "metadata": {},
   "source": [
    "For two indenpendent random variables $X$ with $X\\sim\\chi^2(\\nu_1)$ and $Y$ with $Y \\sim \\chi^2(\\nu_2)$, then:\n",
    "\n",
    "$$F=\\frac{X/\\nu_1}{Y/\\nu_2} ~ F(\\nu_1, \\nu_2)$$\n",
    "\n",
    "where $\\nu_1$ and $\\nu_2$ denote First DF and Second DF."
   ]
  },
  {
   "cell_type": "markdown",
   "id": "237dd020",
   "metadata": {},
   "source": [
    "### Sampling Distribution of Gaussian Population"
   ]
  },
  {
   "cell_type": "markdown",
   "id": "8a3a9b1c",
   "metadata": {},
   "source": [
    "#### One Gaussian Population"
   ]
  },
  {
   "cell_type": "markdown",
   "id": "1371bf85",
   "metadata": {},
   "source": [
    "Assume a population $X \\sim N(\\mu, \\sigma^2)$"
   ]
  },
  {
   "cell_type": "markdown",
   "id": "d3ace1bd",
   "metadata": {},
   "source": [
    "(i) $\\bar{X}\\sim N(\\mu, \\frac{\\sigma^2}{n}), Z = \\frac{\\bar{X}-\\mu}{\\sigma/\\sqrt{n}}\\sim N(0,1)$\n",
    "\n",
    "(ii) $\\bar{X}$ and $S^2$ are mutually independent, and $\\chi^2 = \\frac{(n-1)S^2}{\\sigma^2}\\sim\\chi^2(n-1)$"
   ]
  },
  {
   "cell_type": "markdown",
   "id": "5dadf4c8",
   "metadata": {},
   "source": [
    "## Distribution Transformation"
   ]
  },
  {
   "cell_type": "markdown",
   "id": "22865b4d",
   "metadata": {},
   "source": [
    "For $X$, $Y$ and $Y=g(X)$, if g(X) is strictly monotonic and $\\exists g^{-1}(x) = h(x)$, then:\n",
    "\n",
    "$$F_Y(y) = F_X(h(y))$$\n",
    "\n",
    "$$f_Y(y) = f_X(h(y))|h'(y)|$$"
   ]
  },
  {
   "cell_type": "markdown",
   "id": "1cd9bf17",
   "metadata": {},
   "source": [
    "### Inverse Transform Sampling"
   ]
  },
  {
   "cell_type": "markdown",
   "id": "34aa4832",
   "metadata": {},
   "source": [
    "$$h(y) = F_X^{-1}(F_Y(y))$$"
   ]
  },
  {
   "cell_type": "markdown",
   "id": "79da1e03",
   "metadata": {},
   "source": [
    "# Random Variables"
   ]
  },
  {
   "cell_type": "markdown",
   "id": "77e59f19",
   "metadata": {},
   "source": [
    "## General"
   ]
  },
  {
   "cell_type": "markdown",
   "id": "ffa37c56",
   "metadata": {},
   "source": [
    "### Expectation & Variance (Omitted)"
   ]
  },
  {
   "cell_type": "markdown",
   "id": "8ed367b1",
   "metadata": {},
   "source": [
    "### Moment"
   ]
  },
  {
   "cell_type": "markdown",
   "id": "f5f992cb",
   "metadata": {},
   "source": [
    "$$\n",
    "\\begin{array}{|c|c|c|c|}\n",
    "\\hline\n",
    "\\textbf{Ordinal } \\boldsymbol{k} & \\textbf{Raw }\\boldsymbol{\\mu'_{k}} & \\textbf{Central }\\boldsymbol{\\mu_k} & \\textbf{Standardised } \\boldsymbol{\\hat{\\mu}_k} \\\\\n",
    "\\hline\n",
    "1 & \\text{Mean} & 0 & 0 \\\\\n",
    "\\hline\n",
    "2 & - & \\text{Variance} & 1 \\\\\n",
    "\\hline\n",
    "3 & - & - & \\text{Skewness} \\\\\n",
    "\\hline\n",
    "4 & - & - & \\text{Kurtosis} \\\\\n",
    "\\hline\n",
    "\\end{array}\n",
    "$$"
   ]
  },
  {
   "cell_type": "markdown",
   "id": "b9b068f7",
   "metadata": {},
   "source": [
    "#### Raw Moment （原点矩）"
   ]
  },
  {
   "cell_type": "markdown",
   "id": "36f162b1",
   "metadata": {},
   "source": [
    "$$\\mu'_k = \\text{E}(X^k) = \\begin{cases} \\sum_{i=1}^{n}x_i^kp(x_i)&\\text{, if discrete} \\\\ \\int_{-\\infty}^{+\\infty}x^kf(x)\\text{d}x& \\text{, if continuous} \\end{cases}$$"
   ]
  },
  {
   "cell_type": "markdown",
   "id": "83548697",
   "metadata": {},
   "source": [
    "#### Central Moment （中心矩）"
   ]
  },
  {
   "cell_type": "markdown",
   "id": "3127955c",
   "metadata": {},
   "source": [
    "$$\\mu_k = \\text{E}\\{[X-\\text{E}(X)]^k\\} = \\begin{cases} \\sum_{i=1}^{n}(x_i-\\mu)^kp(x_i)&\\text{, if discrete} \\\\ \\int_{-\\infty}^{+\\infty}(x-\\mu)^kf(x)\\text{d}x& \\text{, if continuous} \\end{cases}$$"
   ]
  },
  {
   "cell_type": "markdown",
   "id": "23dde133",
   "metadata": {},
   "source": [
    "$\\textbf{Note: }$\n",
    "\n",
    "$\\mu_2 = \\mu'_2 - {\\mu'_1}^2 = \\text{E}(X^2) - [\\text{E}(X)]^2$\n",
    "\n",
    "$\\mu_3 = \\mu'_3 - 3\\mu'_2\\mu'_1 + 2{\\mu'_1}^3$\n",
    "\n",
    "$\\mu_4 = \\mu'_4 - 4\\mu'_3\\mu'_1 + 6\\mu'_2{\\mu'_1}^2 - 3{\\mu'_1}^4$"
   ]
  },
  {
   "cell_type": "markdown",
   "id": "b1f81dd0",
   "metadata": {},
   "source": [
    "#### Standardised Moment"
   ]
  },
  {
   "cell_type": "markdown",
   "id": "0bdec201",
   "metadata": {},
   "source": [
    "$$\\hat{\\mu}_k = \\frac{\\mu_k}{\\sigma^k}$$"
   ]
  },
  {
   "cell_type": "markdown",
   "id": "f8745c76",
   "metadata": {},
   "source": [
    "### Jensen's Inequality"
   ]
  },
  {
   "cell_type": "markdown",
   "id": "fe7453eb",
   "metadata": {},
   "source": [
    "### Probability Distribution of Random Variables"
   ]
  },
  {
   "cell_type": "markdown",
   "id": "bde6b83e",
   "metadata": {},
   "source": [
    "#### Binominal Distribution"
   ]
  },
  {
   "cell_type": "markdown",
   "id": "63287c9b",
   "metadata": {},
   "source": [
    "#### Normal Distribution"
   ]
  },
  {
   "cell_type": "markdown",
   "id": "8f7bec33",
   "metadata": {},
   "source": [
    "$F(\\mu-\\sigma \\leq x \\leq \\mu+\\sigma) \\approx 68.27\\%$\n",
    "\n",
    "$F(\\mu-2\\sigma \\leq x \\leq \\mu+2\\sigma) \\approx 95.45\\%$\n",
    "\n",
    "$F(\\mu-3\\sigma \\leq x \\leq \\mu+3\\sigma) \\approx 99.73\\%$"
   ]
  },
  {
   "cell_type": "markdown",
   "id": "6948245b",
   "metadata": {},
   "source": [
    "## Random Vector"
   ]
  },
  {
   "cell_type": "markdown",
   "id": "e29d54e9",
   "metadata": {},
   "source": [
    "### Discrete & Continuous Random Vectors"
   ]
  },
  {
   "cell_type": "markdown",
   "id": "98aa469f",
   "metadata": {},
   "source": [
    "$\\cov$"
   ]
  },
  {
   "cell_type": "markdown",
   "id": "5bd50a33",
   "metadata": {},
   "source": [
    "### Expectation"
   ]
  },
  {
   "cell_type": "markdown",
   "id": "e6b2a2fe",
   "metadata": {},
   "source": [
    "### Covariance"
   ]
  },
  {
   "cell_type": "markdown",
   "id": "01eca1e2",
   "metadata": {},
   "source": [
    "$$\\text{Cov}(X,Y)=E[(X-E(X))(Y-E(Y))]$$"
   ]
  },
  {
   "cell_type": "markdown",
   "id": "996fda7e",
   "metadata": {},
   "source": [
    "#### Concepts"
   ]
  },
  {
   "cell_type": "markdown",
   "id": "eca6185c",
   "metadata": {},
   "source": [
    "##### Correlation Coefficient"
   ]
  },
  {
   "cell_type": "markdown",
   "id": "e38718ce",
   "metadata": {},
   "source": [
    "$$\\rho_{XY} = \\frac{\\text{Cov}(X,Y)}{\\sqrt{\\text{Var}(X)}\\sqrt{\\text{Var}(Y)}}$$"
   ]
  },
  {
   "cell_type": "markdown",
   "id": "0bc69f7c",
   "metadata": {},
   "source": [
    "#### Properties"
   ]
  },
  {
   "cell_type": "markdown",
   "id": "988273a4",
   "metadata": {},
   "source": [
    "$\\text{Cov}(X,Y) = E(XY) - E(X)E(Y)$\n",
    "\n",
    "$\\text{Var}(X\\pm Y) = \\text{Var}(X)+\\text{Var}(Y)\\pm2\\text{Cov}(X,Y)$\n",
    "\n",
    "$\\text{Cov}(aX, bY) = ab\\text{Cov}(X,Y)$\n",
    "\n",
    "$\\text{Cov}(X_1+X_2, Y) = \\text{Cov}(X_1, Y) + \\text{Cov}(X_2, Y)$"
   ]
  },
  {
   "cell_type": "markdown",
   "id": "0b275d9d",
   "metadata": {},
   "source": [
    "## Important Theorems"
   ]
  },
  {
   "cell_type": "markdown",
   "id": "662c0f69",
   "metadata": {},
   "source": [
    "### Law of Large Numbers"
   ]
  },
  {
   "cell_type": "markdown",
   "id": "c8d1aa53",
   "metadata": {},
   "source": [
    "#### Chebyshev Inequality"
   ]
  },
  {
   "cell_type": "markdown",
   "id": "2afdddb3",
   "metadata": {},
   "source": [
    "$$P\\{|X-\\mu|\\geq \\epsilon\\} \\leq \\frac{\\sigma}{\\epsilon^2}$$\n",
    "\n",
    "or\n",
    "\n",
    "$$P\\{|X-\\mu| \\geq k\\sigma\\} \\leq \\frac{1}{k^2}$$"
   ]
  },
  {
   "cell_type": "markdown",
   "id": "c38e5d3b",
   "metadata": {},
   "source": [
    "#### Kintchine Inequality"
   ]
  },
  {
   "cell_type": "markdown",
   "id": "f020307f",
   "metadata": {},
   "source": [
    "$$\\lim_{n \\rightarrow +\\infty} P\\{|\\frac{1}{n}\\sum_{i=1}^nX_i-\\mu|<\\epsilon\\} = 1$$"
   ]
  },
  {
   "cell_type": "markdown",
   "id": "01e27c84",
   "metadata": {},
   "source": [
    "### Central Limit Theorem"
   ]
  },
  {
   "cell_type": "markdown",
   "id": "9dda3f22",
   "metadata": {},
   "source": [
    "#### De Moivre–Laplace theorem"
   ]
  },
  {
   "cell_type": "markdown",
   "id": "a34e7dbf",
   "metadata": {},
   "source": [
    "$$\\lim_{n\\rightarrow+\\infty}P\\{\\frac{X_n-np}{\\sqrt{np(1-p)}}\\leq x\\}=\\Phi(x)$$"
   ]
  },
  {
   "cell_type": "markdown",
   "id": "10f55cc1",
   "metadata": {},
   "source": [
    "Under this circumstance, in order to find $P\\{X \\leq X'\\}$, we calculate:\n",
    "\n",
    "$$P\\{\\frac{X - E(X)}{\\text{SD}(X)}\\leq\\frac{X' - E(X)}{\\text{SD}(X)}\\} = \\Phi(\\frac{X' - E(X)}{\\text{SD}(X)})$$"
   ]
  },
  {
   "cell_type": "markdown",
   "id": "852bdea7",
   "metadata": {},
   "source": [
    "#### Lindeberg-Lévy form"
   ]
  },
  {
   "cell_type": "markdown",
   "id": "f5bbed2e",
   "metadata": {},
   "source": [
    "$$\\lim_{n\\rightarrow+\\infty}P\\{\\frac{\\sum_{i=1}^nX_i-n\\mu}{\\sqrt{n}\\sigma}\\leq x\\}=\\Phi(x)$$"
   ]
  },
  {
   "cell_type": "code",
   "execution_count": 13,
   "id": "a4ec3577",
   "metadata": {},
   "outputs": [
    {
     "data": {
      "text/plain": [
       "0.952242797563695"
      ]
     },
     "execution_count": 13,
     "metadata": {},
     "output_type": "execute_result"
    }
   ],
   "source": [
    "norm.cdf(1.667, 0, 1)"
   ]
  },
  {
   "cell_type": "markdown",
   "id": "7e61e2fe",
   "metadata": {},
   "source": [
    "# Descriptive Statistics"
   ]
  },
  {
   "cell_type": "code",
   "execution_count": 60,
   "id": "2d0dd7d5",
   "metadata": {},
   "outputs": [],
   "source": [
    "# Sample data\n",
    "graduates_scores = pd.read_csv('/Users/jianxiang/Research/Programming/Statistics/data/descriptive/graduates_scores.csv')"
   ]
  },
  {
   "cell_type": "markdown",
   "id": "142090ac",
   "metadata": {},
   "source": [
    "## Data Level"
   ]
  },
  {
   "cell_type": "markdown",
   "id": "f40da32e",
   "metadata": {},
   "source": [
    "### Mean"
   ]
  },
  {
   "cell_type": "code",
   "execution_count": null,
   "id": "f2a221d4",
   "metadata": {},
   "outputs": [],
   "source": [
    "# Simple Mean\n",
    "pd.DataFrame.mean()"
   ]
  },
  {
   "cell_type": "code",
   "execution_count": null,
   "id": "f4496010",
   "metadata": {},
   "outputs": [],
   "source": [
    "# Weighted Mean\n",
    "np.average(a = ___, weights = ___)"
   ]
  },
  {
   "cell_type": "markdown",
   "id": "fe28355d",
   "metadata": {},
   "source": [
    "### Quantile"
   ]
  },
  {
   "cell_type": "code",
   "execution_count": null,
   "id": "5eed7885",
   "metadata": {},
   "outputs": [],
   "source": [
    "# Median (<=>50% Quartile <=> 50% Percentile)\n",
    "pd.DataFrame.median()"
   ]
  },
  {
   "cell_type": "markdown",
   "id": "285faf02",
   "metadata": {},
   "source": [
    "Qaurtile (Linear Interpolation):\n",
    "\n",
    "$$\\text{loc}(Q_{25\\%})=\\frac{n+3}{4}$$\n",
    "$$\\text{loc}(Q_{75\\%})=\\frac{3n+1}{4}$$"
   ]
  },
  {
   "cell_type": "code",
   "execution_count": null,
   "id": "48f753c2",
   "metadata": {},
   "outputs": [],
   "source": [
    "# Quartile (<=> 25%/75% Percentile)\n",
    "pd.DataFrame.quantile(pd, q = [0.25, 0.75], interpolation = 'linear')  # 计算25%和75%四分位数，采用线性插值"
   ]
  },
  {
   "cell_type": "markdown",
   "id": "5e61baf3",
   "metadata": {},
   "source": [
    "Percentile (Linear Interpolation):\n",
    "$$\\text{loc}(P_{i\\%})=\\frac{i}{100}\\times(n-1)$$"
   ]
  },
  {
   "cell_type": "code",
   "execution_count": null,
   "id": "347afd79",
   "metadata": {},
   "outputs": [],
   "source": [
    "# Percentile (General Form)\n",
    "pd.DataFrame.quantile(pd, q = [0.1, 0.9], interpolation = 'linear')  # 计算10%和90%的百分位数，采用线性插值"
   ]
  },
  {
   "cell_type": "markdown",
   "id": "6f845521",
   "metadata": {},
   "source": [
    "### Mode (众数) "
   ]
  },
  {
   "cell_type": "code",
   "execution_count": null,
   "id": "d540e1fc",
   "metadata": {},
   "outputs": [],
   "source": [
    "pd.DataFrame.mode()"
   ]
  },
  {
   "cell_type": "markdown",
   "id": "f608ee46",
   "metadata": {},
   "source": [
    "## Data Variability"
   ]
  },
  {
   "cell_type": "markdown",
   "id": "1483b439",
   "metadata": {},
   "source": [
    "### Range"
   ]
  },
  {
   "cell_type": "markdown",
   "id": "97b5e774",
   "metadata": {},
   "source": [
    "Range (极差):\n",
    "$$R = \\max(x)-\\min(x)$$\n",
    "\\\n",
    "Interquartile Range (四分位差):\n",
    "$$\\text{IQR}=Q_{75\\%}-Q_{25\\%}$$\n",
    "$\\text{IQR}$ $\\searrow$ $\\Rightarrow$ concentration of middle 50% data $\\nearrow$."
   ]
  },
  {
   "cell_type": "code",
   "execution_count": null,
   "id": "21ba4146",
   "metadata": {},
   "outputs": [],
   "source": [
    "# Range\n",
    "R = pd.DataFrame.max() - R = pd.DataFrame.min()"
   ]
  },
  {
   "cell_type": "code",
   "execution_count": 3,
   "id": "fb0f8da5",
   "metadata": {},
   "outputs": [],
   "source": [
    "# Interquartile Range"
   ]
  },
  {
   "cell_type": "code",
   "execution_count": null,
   "id": "8e05dab4",
   "metadata": {},
   "outputs": [],
   "source": [
    "IQR = np.quantile(pd, q = 0.75) - np.quantile(pd, q = 0.25)"
   ]
  },
  {
   "cell_type": "markdown",
   "id": "d5882f1d",
   "metadata": {},
   "source": [
    "### Deviation"
   ]
  },
  {
   "cell_type": "markdown",
   "id": "84d8bfc0",
   "metadata": {},
   "source": [
    "Population Variance:\n",
    "$$\\sigma^2=\\frac{\\sum_{i=1}^{N}(x_i-\\mu)^2}{N}$$\n",
    "Sample Variance (with Bessel's correction):\n",
    "$$s^2=\\frac{\\sum_{i=1}^{n}(x_i-\\bar{x})^2}{n-1}$$\n",
    "\\\n",
    "where $\\sigma$ and $s$ are standard deviations."
   ]
  },
  {
   "cell_type": "code",
   "execution_count": null,
   "id": "3c6b395a",
   "metadata": {},
   "outputs": [],
   "source": [
    "# Variance\n",
    "var = pd.DataFrame.var(ddof = ___) # 'ddof = 0' for Population and ' = 1' for Sample; Default is 1."
   ]
  },
  {
   "cell_type": "code",
   "execution_count": null,
   "id": "28adb67b",
   "metadata": {},
   "outputs": [],
   "source": [
    "# Standard Deviation\n",
    "std = pd.DataFrame.std(ddof = ___) # 'ddof = 0' for Population and ' = 1' for Sample; Default is 1."
   ]
  },
  {
   "cell_type": "markdown",
   "id": "de606784",
   "metadata": {},
   "source": [
    "### Coefficient of Variation (CV)"
   ]
  },
  {
   "cell_type": "markdown",
   "id": "8daf1ccb",
   "metadata": {},
   "source": [
    "$$\n",
    "\\text{CV} = \n",
    "    \\begin{cases}\n",
    "    \\frac{\\sigma}{\\mu} & \\text{if Population} \\\\\n",
    "    \\frac{s}{\\bar{x}} & \\text{if Sample}\n",
    "    \\end{cases}\n",
    "$$\n",
    "\\\n",
    "Typically, $\\text{CV} \\nearrow$ $\\Rightarrow$ Dispersion $\\nearrow$. $\\textit{However}$, it should be prudent to interpret the situation when $\\lim_{{\\mu \\lor \\bar{x}} \\rightarrow 0}\\text{CV} = \\infty$."
   ]
  },
  {
   "cell_type": "code",
   "execution_count": null,
   "id": "0133306a",
   "metadata": {},
   "outputs": [],
   "source": [
    "CV = mean / std"
   ]
  },
  {
   "cell_type": "markdown",
   "id": "2e4666c1",
   "metadata": {},
   "source": [
    "### Standard Score（z-score）"
   ]
  },
  {
   "cell_type": "markdown",
   "id": "393c7224",
   "metadata": {},
   "source": [
    "$$\n",
    "\\boldsymbol{z} = \n",
    "    \\begin{cases}\n",
    "    \\frac{\\boldsymbol{X} - \\mu}{\\sigma} & \\text{if Population} \\\\\n",
    "    \\frac{\\boldsymbol{X} - \\bar{x}}{\\bar{s}} & \\text{if Sample}\n",
    "    \\end{cases}\n",
    "$$\n",
    "\n",
    "$$\n",
    "z_i = \n",
    "    \\begin{cases}\n",
    "    \\frac{x_i - \\mu}{\\sigma} & \\text{if Population} \\\\\n",
    "    \\frac{x_i - \\bar{x}}{\\bar{s}} & \\text{if Sample}\n",
    "    \\end{cases}\n",
    "$$"
   ]
  },
  {
   "cell_type": "markdown",
   "id": "1105bc6a",
   "metadata": {},
   "source": [
    "## Shape of Data Distribution"
   ]
  },
  {
   "cell_type": "markdown",
   "id": "97a1c53c",
   "metadata": {},
   "source": [
    "### Coefficient of Skewness"
   ]
  },
  {
   "cell_type": "markdown",
   "id": "5f944881",
   "metadata": {},
   "source": [
    "#### Definition & Calculation"
   ]
  },
  {
   "cell_type": "markdown",
   "id": "3e462666",
   "metadata": {},
   "source": [
    "$$\\text{SK} = \\hat{\\mu}_3 = \\frac{\\mu_3}{\\sigma_3}$$\n",
    "\n",
    "If $\\text{SK} \\rightarrow 0$, then the data distribution is more symmetric. $\\text{SK} > 0$表示Positive Skewness（右侧有长尾，波峰向左倾斜）；$\\text{SK} < 0$表示Negative Skewness（左侧有长尾，波峰向右倾斜）\n",
    "\n",
    "Implementation with Pandas:\n",
    "\n",
    "$$\\text{SK}_{\\text{pandas}} = \\frac{\\sqrt{n(n-1)}}{n-2}\\text{SK}$$"
   ]
  },
  {
   "cell_type": "markdown",
   "id": "16939cc5",
   "metadata": {},
   "source": [
    "### Coefficient of Kurtosis"
   ]
  },
  {
   "cell_type": "markdown",
   "id": "e0bac945",
   "metadata": {},
   "source": [
    "#### Definition & Calculation"
   ]
  },
  {
   "cell_type": "markdown",
   "id": "90218964",
   "metadata": {},
   "source": [
    "##### Historical"
   ]
  },
  {
   "cell_type": "markdown",
   "id": "dd265273",
   "metadata": {},
   "source": [
    "$$K = \\hat{\\mu}_4 = \\frac{\\mu_4}{\\sigma^4}$$"
   ]
  },
  {
   "cell_type": "markdown",
   "id": "96a74e78",
   "metadata": {},
   "source": [
    "##### Excess Kurtosis"
   ]
  },
  {
   "cell_type": "markdown",
   "id": "17605f80",
   "metadata": {},
   "source": [
    "$$\\text{EK} = K - K(\\text{Normal}) = K - 3$$\n",
    "\n",
    "$\\text{EK} > 0$: 尖峰分布\n",
    "\n",
    "$\\text{EK} < 0$: 扁平分布"
   ]
  },
  {
   "cell_type": "markdown",
   "id": "1afde564",
   "metadata": {},
   "source": [
    "##### Excess Kurtosis for Pandas"
   ]
  },
  {
   "cell_type": "markdown",
   "id": "8b305073",
   "metadata": {},
   "source": [
    "$$\\text{EK}_\\text{pandas} = \\frac{(n-1)[(n+1)\\text{SK}+6]}{(n-2)(n-3)}$$"
   ]
  },
  {
   "cell_type": "markdown",
   "id": "755bb3a7",
   "metadata": {},
   "source": [
    "### Implementation"
   ]
  },
  {
   "cell_type": "code",
   "execution_count": 63,
   "id": "1b144145",
   "metadata": {},
   "outputs": [
    {
     "name": "stdout",
     "output_type": "stream",
     "text": [
      "Skewness:  -0.6632 \n",
      "Kurtosis:  0.2905\n"
     ]
    }
   ],
   "source": [
    "skew = graduates_scores['Score'].skew()\n",
    "kurt = graduates_scores['Score'].kurt()\n",
    "\n",
    "print('Skewness: ', round(skew, 4),'\\n'\n",
    "     'Kurtosis: ', round(kurt, 4))"
   ]
  },
  {
   "cell_type": "code",
   "execution_count": 107,
   "id": "b22ceb5b",
   "metadata": {
    "hide_input": true
   },
   "outputs": [
    {
     "data": {
      "image/png": "[encoded data removed]",
      "text/plain": [
       "<Figure size 1500x900 with 1 Axes>"
      ]
     },
     "metadata": {},
     "output_type": "display_data"
    }
   ],
   "source": [
    "bin_width = 5\n",
    "bins = np.arange(30, graduates_scores['Score'].max() + bin_width, bin_width)\n",
    "\n",
    "# 绘制分数的直方图\n",
    "plt.figure(figsize=(5, 3), dpi = 300)\n",
    "sns.histplot(graduates_scores['Score'], bins=bins, kde=True, color='blue', stat='count')\n",
    "\n",
    "# 添加正态分布拟合曲线\n",
    "mu, std = norm.fit(graduates_scores['Score'])\n",
    "xmin, xmax = plt.xlim()\n",
    "x = np.linspace(xmin, xmax, 100)\n",
    "p = norm.pdf(x, mu, std) * 50 * 5\n",
    "plt.plot(x, p, 'k', linewidth=2)\n",
    "\n",
    "# 设置图表标题和标签\n",
    "title = \"Skewness = -0.6632,   Kurtosis = 0.2905\"\n",
    "plt.title(title)\n",
    "plt.xlabel('Score')\n",
    "plt.ylabel('Count')\n",
    "\n",
    "# 显示图表\n",
    "plt.show()"
   ]
  },
  {
   "cell_type": "markdown",
   "id": "84180ec1",
   "metadata": {},
   "source": [
    "# Parameter Estimation"
   ]
  },
  {
   "cell_type": "markdown",
   "id": "14d41577",
   "metadata": {},
   "source": [
    "## Concepts"
   ]
  },
  {
   "cell_type": "markdown",
   "id": "fbd91342",
   "metadata": {},
   "source": [
    "## Methods of Estimation"
   ]
  },
  {
   "cell_type": "markdown",
   "id": "1e80d26e",
   "metadata": {},
   "source": [
    "### Maximum Likelihood Estimation (MLE)"
   ]
  },
  {
   "cell_type": "markdown",
   "id": "af766b67",
   "metadata": {},
   "source": [
    "##### Original"
   ]
  },
  {
   "cell_type": "markdown",
   "id": "a041ab3c",
   "metadata": {},
   "source": [
    "Likelihood Function:\n",
    "\n",
    "$$\\mathcal{L}_\\boldsymbol{\\theta} = \\prod_{i=1}^np(x_i|\\boldsymbol{\\theta})$$\n",
    "\n",
    "Parameter(s) to be found:\n",
    "\n",
    "$$\\boldsymbol{\\theta} = \\arg\\max_\\boldsymbol{\\theta} \\mathcal{L}_\\boldsymbol{\\theta}$$"
   ]
  },
  {
   "cell_type": "markdown",
   "id": "d7279199",
   "metadata": {},
   "source": [
    "##### Log-likelihood"
   ]
  },
  {
   "cell_type": "markdown",
   "id": "1390657b",
   "metadata": {},
   "source": [
    "Log-likelihood Function:\n",
    "\n",
    "$$\\ln \\mathcal{L}_\\boldsymbol{\\theta} = \\sum_{i=1}^n\\ln p(x_i|\\boldsymbol{\\theta})$$"
   ]
  },
  {
   "cell_type": "markdown",
   "id": "21b6e7ae",
   "metadata": {},
   "source": [
    "### Maximum A Posteriori (MAP) Estimation"
   ]
  },
  {
   "cell_type": "markdown",
   "id": "39b03d37",
   "metadata": {},
   "source": [
    "$$p(\\boldsymbol{\\theta}|\\boldsymbol{x}) = \\frac{p(\\boldsymbol{x}|\\boldsymbol{\\theta})p(\\boldsymbol{\\theta})}{p(\\boldsymbol{x})} = \\frac{p(\\boldsymbol{x}|\\boldsymbol{\\theta})p(\\boldsymbol{\\theta})}{\\int_\\boldsymbol{\\theta}p(\\boldsymbol{x}|\\boldsymbol{\\theta})p(\\boldsymbol{\\theta})\\text{d}\\boldsymbol{\\theta}}$$"
   ]
  },
  {
   "cell_type": "markdown",
   "id": "fb36ffc8",
   "metadata": {},
   "source": [
    "$$\\mathcal{L}_\\text{MAP} = \\arg\\max_\\boldsymbol{\\theta}\\prod_{i=1}^np(\\boldsymbol{\\theta})p(x_i|\\boldsymbol{\\theta})$$"
   ]
  },
  {
   "cell_type": "markdown",
   "id": "530182f1",
   "metadata": {},
   "source": [
    "## Interval Estimation"
   ]
  },
  {
   "cell_type": "markdown",
   "id": "cf799491",
   "metadata": {},
   "source": [
    "### Confidence interval"
   ]
  },
  {
   "cell_type": "markdown",
   "id": "301a7f82",
   "metadata": {},
   "source": [
    "$$P\\{\\theta_1 < \\theta < \\theta_2\\} = 1-\\alpha$$"
   ]
  },
  {
   "cell_type": "markdown",
   "id": "8d2d30b7",
   "metadata": {},
   "source": [
    "# Hypothesis Test"
   ]
  },
  {
   "cell_type": "markdown",
   "id": "1af89526",
   "metadata": {},
   "source": [
    "# Categorical Variable Analysis"
   ]
  },
  {
   "cell_type": "markdown",
   "id": "4f79b5ba",
   "metadata": {},
   "source": [
    "# Analysis of Variance (ANOVA)"
   ]
  },
  {
   "cell_type": "markdown",
   "id": "f0a6e6a7",
   "metadata": {},
   "source": [
    "## Principles"
   ]
  },
  {
   "cell_type": "markdown",
   "id": "fb6e897f",
   "metadata": {},
   "source": [
    "### Definition"
   ]
  },
  {
   "cell_type": "markdown",
   "id": "86623f34",
   "metadata": {},
   "source": [
    "方差分析是分析类别自变量对数值因变量影响的一种统计方法。自变量对因变量的影响也称为自变量效应 ($\\textbf{Effect}$)。"
   ]
  },
  {
   "cell_type": "markdown",
   "id": "23ae0cf1",
   "metadata": {},
   "source": [
    "下面的案例数据模拟了《原神》玩家在不同类别下抽取限定5星角色的次数。表格的内容如下：\n",
    "\n",
    "$\\textbf{Factor}$（Player_Type）：这代表玩家的类型，分为三个$\\textbf{Level}$——'Unlucky'（非酋）、'Average'（普通玩家）、'Lucky'（欧皇）。\n",
    "\n",
    "$\\textbf{Experiment Unit}$（Pulls_Till_Limited_5_Star）：这表示每个玩家在获得限定5星角色之前需要抽取的次数。\n",
    "\n",
    "目的：方差分析的目的是为了测试不同类型玩家（非酋、普通玩家、欧皇）在获取限定5星角色方面是否存在统计上显著的差异。具体来说，我们想了解这三种玩家类型是否对抽卡次数有显著影响。"
   ]
  },
  {
   "cell_type": "code",
   "execution_count": 3,
   "id": "074f7fa6",
   "metadata": {
    "hide_input": false
   },
   "outputs": [
    {
     "data": {
      "text/html": [
       "<div>\n",
       "<style scoped>\n",
       "    .dataframe tbody tr th:only-of-type {\n",
       "        vertical-align: middle;\n",
       "    }\n",
       "\n",
       "    .dataframe tbody tr th {\n",
       "        vertical-align: top;\n",
       "    }\n",
       "\n",
       "    .dataframe thead th {\n",
       "        text-align: right;\n",
       "    }\n",
       "</style>\n",
       "<table border=\"1\" class=\"dataframe\">\n",
       "  <thead>\n",
       "    <tr style=\"text-align: right;\">\n",
       "      <th></th>\n",
       "      <th>Player_Type</th>\n",
       "      <th>Pulls_Till_Limited_5_Star</th>\n",
       "    </tr>\n",
       "  </thead>\n",
       "  <tbody>\n",
       "    <tr>\n",
       "      <th>0</th>\n",
       "      <td>Unlucky</td>\n",
       "      <td>146</td>\n",
       "    </tr>\n",
       "    <tr>\n",
       "      <th>1</th>\n",
       "      <td>Unlucky</td>\n",
       "      <td>126</td>\n",
       "    </tr>\n",
       "    <tr>\n",
       "      <th>2</th>\n",
       "      <td>Unlucky</td>\n",
       "      <td>134</td>\n",
       "    </tr>\n",
       "    <tr>\n",
       "      <th>3</th>\n",
       "      <td>Unlucky</td>\n",
       "      <td>153</td>\n",
       "    </tr>\n",
       "    <tr>\n",
       "      <th>4</th>\n",
       "      <td>Unlucky</td>\n",
       "      <td>148</td>\n",
       "    </tr>\n",
       "    <tr>\n",
       "      <th>5</th>\n",
       "      <td>Unlucky</td>\n",
       "      <td>120</td>\n",
       "    </tr>\n",
       "    <tr>\n",
       "      <th>6</th>\n",
       "      <td>Unlucky</td>\n",
       "      <td>134</td>\n",
       "    </tr>\n",
       "    <tr>\n",
       "      <th>7</th>\n",
       "      <td>Unlucky</td>\n",
       "      <td>120</td>\n",
       "    </tr>\n",
       "    <tr>\n",
       "      <th>8</th>\n",
       "      <td>Unlucky</td>\n",
       "      <td>120</td>\n",
       "    </tr>\n",
       "    <tr>\n",
       "      <th>9</th>\n",
       "      <td>Unlucky</td>\n",
       "      <td>126</td>\n",
       "    </tr>\n",
       "    <tr>\n",
       "      <th>10</th>\n",
       "      <td>Average</td>\n",
       "      <td>91</td>\n",
       "    </tr>\n",
       "    <tr>\n",
       "      <th>11</th>\n",
       "      <td>Average</td>\n",
       "      <td>110</td>\n",
       "    </tr>\n",
       "    <tr>\n",
       "      <th>12</th>\n",
       "      <td>Average</td>\n",
       "      <td>100</td>\n",
       "    </tr>\n",
       "    <tr>\n",
       "      <th>13</th>\n",
       "      <td>Average</td>\n",
       "      <td>90</td>\n",
       "    </tr>\n",
       "    <tr>\n",
       "      <th>14</th>\n",
       "      <td>Average</td>\n",
       "      <td>95</td>\n",
       "    </tr>\n",
       "    <tr>\n",
       "      <th>15</th>\n",
       "      <td>Average</td>\n",
       "      <td>94</td>\n",
       "    </tr>\n",
       "    <tr>\n",
       "      <th>16</th>\n",
       "      <td>Average</td>\n",
       "      <td>111</td>\n",
       "    </tr>\n",
       "    <tr>\n",
       "      <th>17</th>\n",
       "      <td>Average</td>\n",
       "      <td>85</td>\n",
       "    </tr>\n",
       "    <tr>\n",
       "      <th>18</th>\n",
       "      <td>Average</td>\n",
       "      <td>93</td>\n",
       "    </tr>\n",
       "    <tr>\n",
       "      <th>19</th>\n",
       "      <td>Average</td>\n",
       "      <td>76</td>\n",
       "    </tr>\n",
       "    <tr>\n",
       "      <th>20</th>\n",
       "      <td>Lucky</td>\n",
       "      <td>30</td>\n",
       "    </tr>\n",
       "    <tr>\n",
       "      <th>21</th>\n",
       "      <td>Lucky</td>\n",
       "      <td>66</td>\n",
       "    </tr>\n",
       "    <tr>\n",
       "      <th>22</th>\n",
       "      <td>Lucky</td>\n",
       "      <td>69</td>\n",
       "    </tr>\n",
       "    <tr>\n",
       "      <th>23</th>\n",
       "      <td>Lucky</td>\n",
       "      <td>45</td>\n",
       "    </tr>\n",
       "    <tr>\n",
       "      <th>24</th>\n",
       "      <td>Lucky</td>\n",
       "      <td>91</td>\n",
       "    </tr>\n",
       "    <tr>\n",
       "      <th>25</th>\n",
       "      <td>Lucky</td>\n",
       "      <td>35</td>\n",
       "    </tr>\n",
       "    <tr>\n",
       "      <th>26</th>\n",
       "      <td>Lucky</td>\n",
       "      <td>57</td>\n",
       "    </tr>\n",
       "    <tr>\n",
       "      <th>27</th>\n",
       "      <td>Lucky</td>\n",
       "      <td>54</td>\n",
       "    </tr>\n",
       "    <tr>\n",
       "      <th>28</th>\n",
       "      <td>Lucky</td>\n",
       "      <td>79</td>\n",
       "    </tr>\n",
       "    <tr>\n",
       "      <th>29</th>\n",
       "      <td>Lucky</td>\n",
       "      <td>79</td>\n",
       "    </tr>\n",
       "  </tbody>\n",
       "</table>\n",
       "</div>"
      ],
      "text/plain": [
       "   Player_Type  Pulls_Till_Limited_5_Star\n",
       "0      Unlucky                        146\n",
       "1      Unlucky                        126\n",
       "2      Unlucky                        134\n",
       "3      Unlucky                        153\n",
       "4      Unlucky                        148\n",
       "5      Unlucky                        120\n",
       "6      Unlucky                        134\n",
       "7      Unlucky                        120\n",
       "8      Unlucky                        120\n",
       "9      Unlucky                        126\n",
       "10     Average                         91\n",
       "11     Average                        110\n",
       "12     Average                        100\n",
       "13     Average                         90\n",
       "14     Average                         95\n",
       "15     Average                         94\n",
       "16     Average                        111\n",
       "17     Average                         85\n",
       "18     Average                         93\n",
       "19     Average                         76\n",
       "20       Lucky                         30\n",
       "21       Lucky                         66\n",
       "22       Lucky                         69\n",
       "23       Lucky                         45\n",
       "24       Lucky                         91\n",
       "25       Lucky                         35\n",
       "26       Lucky                         57\n",
       "27       Lucky                         54\n",
       "28       Lucky                         79\n",
       "29       Lucky                         79"
      ]
     },
     "execution_count": 3,
     "metadata": {},
     "output_type": "execute_result"
    }
   ],
   "source": [
    "genshin_gacha = pd.read_csv('/Users/jianxiang/Research/Programming/Statistics/data/anova/genshin_impact_gacha_data.csv')\n",
    "genshin_gacha"
   ]
  },
  {
   "cell_type": "markdown",
   "id": "17900891",
   "metadata": {},
   "source": [
    "### Error Decomposition"
   ]
  },
  {
   "cell_type": "markdown",
   "id": "d563342b",
   "metadata": {},
   "source": [
    "$\\text{SST}=\\text{SSA}+\\text{SSE}$"
   ]
  },
  {
   "cell_type": "markdown",
   "id": "1cea2a6e",
   "metadata": {},
   "source": [
    "就上述原神抽卡的案例而言，假设3个玩家在抽取到限定五星角色之前的次数的均值分别为$\\mu_1, \\mu_2, \\mu_3$，分析玩家幸运程度对抽卡次数的影响也就是要检验下面的假设：\n",
    "\n",
    "$H_0$: $\\mu_1=\\mu_2=\\mu_3$ (Not significant)\n",
    "\n",
    "$H_1$: $\\mu_1, \\mu_2, \\mu_3$ not ALL equal (Significant)"
   ]
  },
  {
   "cell_type": "markdown",
   "id": "ecf13684",
   "metadata": {},
   "source": [
    "## One-way ANOVA"
   ]
  },
  {
   "cell_type": "markdown",
   "id": "4829d2ad",
   "metadata": {},
   "source": [
    "### Mathematical Model"
   ]
  },
  {
   "cell_type": "markdown",
   "id": "f77d2d2b",
   "metadata": {},
   "source": [
    "设因子A有$I$个Level（例如非酋、普通、欧皇，3个Level），One-way ANOVA可以表示为：\n",
    "\n",
    "$$\n",
    "y_{ij} = \\mu_i + \\epsilon_{ij}\n",
    "$$\n",
    "\n",
    "式中, $y_{ij}$为第$i$ ($i\\leq I$)个Level中的第$j$个Observation；$\\mu_i$为第$i$个Level的平均值；$\\epsilon_{ij}$为第i个Level中第$j$个Observation的随机误差。\n",
    "\n",
    "注：$\\epsilon_{ij}$为随机误差，并且通常假定$\\epsilon \\sim N(0, \\sigma^2)$。此外，也通常假定，对于第$i$个Level，$E(y_{ij})=\\mu_i$，即各个Prediction都等于对应Level的均值。"
   ]
  },
  {
   "cell_type": "markdown",
   "id": "9b507329",
   "metadata": {},
   "source": [
    "设全部Observations的总均值为$\\mu$，第$i$个Level的Effect记作$\\alpha_i$，则$\\alpha_i=\\mu_i-\\mu$。这样，第$i$个Level的均值被分解成$\\mu_i=\\mu+\\alpha_i$，这样之前的式子可以表示为：\n",
    "\n",
    "$$y_{ij}=\\mu + \\alpha_i + \\epsilon_{ij}$$"
   ]
  },
  {
   "cell_type": "markdown",
   "id": "8b34583e",
   "metadata": {},
   "source": [
    "这样一来，要检验玩家幸运程度对抽卡次数是否有显著影响，也就是要检验如下假设：\n",
    "\n",
    "$H_0$: $\\alpha_1=\\alpha_2=\\alpha_3$ (Not significant)\n",
    "\n",
    "$H_1$: $\\alpha_1, \\alpha_2, \\alpha_3$ not ALL equal to $0$ (Significant)"
   ]
  },
  {
   "cell_type": "markdown",
   "id": "344ff921",
   "metadata": {},
   "source": [
    "### Effect Testing"
   ]
  },
  {
   "cell_type": "markdown",
   "id": "f1663302",
   "metadata": {},
   "source": [
    "\\begin{array}{|c|c|c|c|c|}\n",
    "\\hline\n",
    "\\textbf{Error Sources} & \\textbf{SS} & \\textbf{df} & \\textbf{Mean Square} & \\textbf{Test Statistic } F\\\\\n",
    "\\hline\n",
    "\\text{Treatment Effect} & \\text{SSA}= \\sum_{i=1}^{I}n_i(\\bar{y_i}-\\bar{\\bar{y}})^2& I-1 & \\text{MSA}=\\frac{\\text{SSA}}{I-1} & \\frac{\\text{MSA}}{\\text{MSE}} \\\\ \n",
    "\\text{Error} & \\text{SSE}=\\sum_{i=1}^{I}\\sum_{j=1}^{n_i}(y_{ij}-\\bar{y_i})^2 & n-I & \\text{MSE}=\\frac{\\text{SSE}}{n-I} &\\\\\n",
    "\\text{Total Effect} & \\text{SST} = \\sum_{i=1}^{I}\\sum_{j=1}^{n_i}(y_{ij}-\\bar{\\bar{y}})^2 & n-1 & &\\\\\n",
    "\\hline\n",
    "\\end{array}\n",
    "\n",
    "where:\n",
    "\n",
    "$n_i$ is the Sample Size of the $i^{th}$ ($i\\leq I$) Level.\n",
    "\n",
    "$\\bar{y_i}=\\frac{1}{n_i}\\sum_{j=1}^{n_i}y_{ij}$ ($j\\leq n_i$) is the sample mean of the $i^{th}$ Level.\n",
    "\n",
    "$\\bar{\\bar{y}}=\\frac{1}{n}\\sum_{i=1}^{I}\\sum_{j=1}^{n_i}y_{ij}$ is the Total Mean for all samples."
   ]
  },
  {
   "cell_type": "markdown",
   "id": "622489a8",
   "metadata": {},
   "source": [
    "Implementation:"
   ]
  },
  {
   "cell_type": "code",
   "execution_count": 6,
   "id": "de8eb5b0",
   "metadata": {},
   "outputs": [],
   "source": [
    "from statsmodels.formula.api import ols       # 普通最小二乘回归\n",
    "from statsmodels.stats.anova import anova_lm"
   ]
  },
  {
   "cell_type": "code",
   "execution_count": 7,
   "id": "c424b6c6",
   "metadata": {},
   "outputs": [
    {
     "data": {
      "text/html": [
       "<div>\n",
       "<style scoped>\n",
       "    .dataframe tbody tr th:only-of-type {\n",
       "        vertical-align: middle;\n",
       "    }\n",
       "\n",
       "    .dataframe tbody tr th {\n",
       "        vertical-align: top;\n",
       "    }\n",
       "\n",
       "    .dataframe thead th {\n",
       "        text-align: right;\n",
       "    }\n",
       "</style>\n",
       "<table border=\"1\" class=\"dataframe\">\n",
       "  <thead>\n",
       "    <tr style=\"text-align: right;\">\n",
       "      <th></th>\n",
       "      <th>df</th>\n",
       "      <th>sum_sq</th>\n",
       "      <th>mean_sq</th>\n",
       "      <th>F</th>\n",
       "      <th>PR(&gt;F)</th>\n",
       "    </tr>\n",
       "  </thead>\n",
       "  <tbody>\n",
       "    <tr>\n",
       "      <th>Player_Type</th>\n",
       "      <td>2.0</td>\n",
       "      <td>26093.6</td>\n",
       "      <td>13046.800000</td>\n",
       "      <td>58.680282</td>\n",
       "      <td>1.482024e-10</td>\n",
       "    </tr>\n",
       "    <tr>\n",
       "      <th>Residual</th>\n",
       "      <td>27.0</td>\n",
       "      <td>6003.1</td>\n",
       "      <td>222.337037</td>\n",
       "      <td>NaN</td>\n",
       "      <td>NaN</td>\n",
       "    </tr>\n",
       "  </tbody>\n",
       "</table>\n",
       "</div>"
      ],
      "text/plain": [
       "               df   sum_sq       mean_sq          F        PR(>F)\n",
       "Player_Type   2.0  26093.6  13046.800000  58.680282  1.482024e-10\n",
       "Residual     27.0   6003.1    222.337037        NaN           NaN"
      ]
     },
     "execution_count": 7,
     "metadata": {},
     "output_type": "execute_result"
    }
   ],
   "source": [
    "one_way_anova = ols(formula='Pulls_Till_Limited_5_Star~Player_Type', data=genshin_gacha).fit()\n",
    "anova_lm(one_way_anova, type=1)"
   ]
  },
  {
   "cell_type": "code",
   "execution_count": 9,
   "id": "5ffde133",
   "metadata": {},
   "outputs": [
    {
     "name": "stdout",
     "output_type": "stream",
     "text": [
      "                                OLS Regression Results                               \n",
      "=====================================================================================\n",
      "Dep. Variable:     Pulls_Till_Limited_5_Star   R-squared:                       0.813\n",
      "Model:                                   OLS   Adj. R-squared:                  0.799\n",
      "Method:                        Least Squares   F-statistic:                     58.68\n",
      "Date:                       Mon, 01 Jan 2024   Prob (F-statistic):           1.48e-10\n",
      "Time:                               20:43:05   Log-Likelihood:                -122.05\n",
      "No. Observations:                         30   AIC:                             250.1\n",
      "Df Residuals:                             27   BIC:                             254.3\n",
      "Df Model:                                  2                                         \n",
      "Covariance Type:                   nonrobust                                         \n",
      "==========================================================================================\n",
      "                             coef    std err          t      P>|t|      [0.025      0.975]\n",
      "------------------------------------------------------------------------------------------\n",
      "Intercept                 94.5000      4.715     20.041      0.000      84.825     104.175\n",
      "Player_Type[T.Lucky]     -34.0000      6.668     -5.099      0.000     -47.682     -20.318\n",
      "Player_Type[T.Unlucky]    38.2000      6.668      5.729      0.000      24.518      51.882\n",
      "==============================================================================\n",
      "Omnibus:                        0.053   Durbin-Watson:                   2.061\n",
      "Prob(Omnibus):                  0.974   Jarque-Bera (JB):                0.267\n",
      "Skew:                           0.017   Prob(JB):                        0.875\n",
      "Kurtosis:                       2.539   Cond. No.                         3.73\n",
      "==============================================================================\n",
      "\n",
      "Notes:\n",
      "[1] Standard Errors assume that the covariance matrix of the errors is correctly specified.\n"
     ]
    }
   ],
   "source": [
    "print(one_way_anova.summary())"
   ]
  },
  {
   "cell_type": "markdown",
   "id": "3e028cc4",
   "metadata": {},
   "source": [
    "注意：此方法强迫$\\alpha_1 = 0$，即$\\mu = \\mu_i$。"
   ]
  },
  {
   "cell_type": "code",
   "execution_count": 42,
   "id": "61c07a29",
   "metadata": {},
   "outputs": [],
   "source": [
    "mean = one_way_anova.params.values[0]\n",
    "lci, uci = one_way_anova.conf_int().iloc[0].values\n",
    "df_mean = pd.DataFrame([lci, mean, uci], index=['lci', 'mean', 'uci'], columns = ['Average'])\n",
    "df_mean['Lucky'] = df_mean['Average'] + one_way_anova.params.values[1]\n",
    "df_mean['Unlucky'] = df_mean['Average'] + one_way_anova.params.values[2]"
   ]
  },
  {
   "cell_type": "code",
   "execution_count": 49,
   "id": "54184108",
   "metadata": {},
   "outputs": [
    {
     "data": {
      "text/html": [
       "<div>\n",
       "<style scoped>\n",
       "    .dataframe tbody tr th:only-of-type {\n",
       "        vertical-align: middle;\n",
       "    }\n",
       "\n",
       "    .dataframe tbody tr th {\n",
       "        vertical-align: top;\n",
       "    }\n",
       "\n",
       "    .dataframe thead th {\n",
       "        text-align: right;\n",
       "    }\n",
       "</style>\n",
       "<table border=\"1\" class=\"dataframe\">\n",
       "  <thead>\n",
       "    <tr style=\"text-align: right;\">\n",
       "      <th></th>\n",
       "      <th>lci</th>\n",
       "      <th>mean</th>\n",
       "      <th>uci</th>\n",
       "    </tr>\n",
       "  </thead>\n",
       "  <tbody>\n",
       "    <tr>\n",
       "      <th>Average</th>\n",
       "      <td>84.82508</td>\n",
       "      <td>94.5</td>\n",
       "      <td>104.17492</td>\n",
       "    </tr>\n",
       "    <tr>\n",
       "      <th>Lucky</th>\n",
       "      <td>50.82508</td>\n",
       "      <td>60.5</td>\n",
       "      <td>70.17492</td>\n",
       "    </tr>\n",
       "    <tr>\n",
       "      <th>Unlucky</th>\n",
       "      <td>123.02508</td>\n",
       "      <td>132.7</td>\n",
       "      <td>142.37492</td>\n",
       "    </tr>\n",
       "  </tbody>\n",
       "</table>\n",
       "</div>"
      ],
      "text/plain": [
       "               lci   mean        uci\n",
       "Average   84.82508   94.5  104.17492\n",
       "Lucky     50.82508   60.5   70.17492\n",
       "Unlucky  123.02508  132.7  142.37492"
      ]
     },
     "execution_count": 49,
     "metadata": {},
     "output_type": "execute_result"
    }
   ],
   "source": [
    "df_mean.T"
   ]
  },
  {
   "cell_type": "code",
   "execution_count": 54,
   "id": "9105a3d4",
   "metadata": {},
   "outputs": [
    {
     "data": {
      "image/png": "[encoded data removed]",
      "text/plain": [
       "<Figure size 900x600 with 1 Axes>"
      ]
     },
     "metadata": {},
     "output_type": "display_data"
    }
   ],
   "source": [
    "ax = df_mean.T.plot(ls='', marker = 'o', legend = False, c='black', figsize = (9,6),\n",
    "                   xlabel = 'Player Type', ylabel = 'Pulls till limited 5-tar')\n",
    "ax = df_mean.loc['mean'].plot()"
   ]
  },
  {
   "cell_type": "markdown",
   "id": "864cb01f",
   "metadata": {},
   "source": [
    "### Effect Size"
   ]
  },
  {
   "cell_type": "markdown",
   "id": "dfae762a",
   "metadata": {},
   "source": [
    "$$\\eta^2 = \\frac{\\text{SSA}}{\\text{SSA + SSE}} = \\frac{\\text{SSA}}{\\text{SST}}$$\n",
    "\n",
    "The larger the value of $\\eta^2$ is, the stronger the relationship between the independent and dependent variables."
   ]
  },
  {
   "cell_type": "code",
   "execution_count": 55,
   "id": "3042849a",
   "metadata": {},
   "outputs": [
    {
     "name": "stdout",
     "output_type": "stream",
     "text": [
      "The Effect Size is  0.813\n"
     ]
    }
   ],
   "source": [
    "print(f'The Effect Size is {one_way_anova.rsquared: .4g}')"
   ]
  },
  {
   "cell_type": "markdown",
   "id": "631863a4",
   "metadata": {},
   "source": [
    "### Multiple Comparison"
   ]
  },
  {
   "cell_type": "markdown",
   "id": "8f5c81f5",
   "metadata": {},
   "source": [
    "#### Tukey-Kramer HSD (Honestly Significant Difference)"
   ]
  },
  {
   "cell_type": "markdown",
   "id": "f742bf9d",
   "metadata": {},
   "source": []
  },
  {
   "cell_type": "code",
   "execution_count": 56,
   "id": "b0b5566d",
   "metadata": {},
   "outputs": [],
   "source": [
    "from statsmodels.stats.multicomp import MultiComparison"
   ]
  },
  {
   "cell_type": "code",
   "execution_count": 59,
   "id": "d71214ae",
   "metadata": {},
   "outputs": [
    {
     "name": "stdout",
     "output_type": "stream",
     "text": [
      "  Multiple Comparison of Means - Tukey HSD, FWER=0.50   \n",
      "========================================================\n",
      " group1  group2 meandiff p-adj   lower    upper   reject\n",
      "--------------------------------------------------------\n",
      "Average   Lucky    -34.0 0.0001 -41.5844 -26.4156   True\n",
      "Average Unlucky     38.2    0.0  30.6156  45.7844   True\n",
      "  Lucky Unlucky     72.2    0.0  64.6156  79.7844   True\n",
      "--------------------------------------------------------\n"
     ]
    }
   ],
   "source": [
    "mc = MultiComparison(genshin_gacha['Pulls_Till_Limited_5_Star'], groups = genshin_gacha['Player_Type'])\n",
    "print(mc.tukeyhsd(alpha=0.5))"
   ]
  },
  {
   "cell_type": "markdown",
   "id": "71400c22",
   "metadata": {},
   "source": [
    "## Two-way ANOVA"
   ]
  },
  {
   "cell_type": "markdown",
   "id": "0f407932",
   "metadata": {},
   "source": [
    "总平方和：$\\text{SST}=\\sum(y_{ij}-\\bar{y})^2$\n",
    "\n",
    "处理平方和/组间平方和: $\\text{SSA}=$"
   ]
  },
  {
   "cell_type": "markdown",
   "id": "7ee86666",
   "metadata": {},
   "source": [
    "# Regression Analysis"
   ]
  },
  {
   "cell_type": "markdown",
   "id": "5bc25598",
   "metadata": {},
   "source": [
    "## Correlation"
   ]
  },
  {
   "cell_type": "markdown",
   "id": "63eb0778",
   "metadata": {},
   "source": [
    "### Correlation Coefficient"
   ]
  },
  {
   "cell_type": "markdown",
   "id": "0547830e",
   "metadata": {},
   "source": [
    "Pearson's Correlation Coefficient:\n",
    "$$\n",
    "r = \\frac{\\sum(x_i-\\bar{x})(y_i-\\bar{y})}{\\sqrt{\\sum(x_i-\\bar{x})^2 \\cdot \\sum(y_i-\\bar{y})^2}}\n",
    "$$"
   ]
  },
  {
   "cell_type": "markdown",
   "id": "121bae00",
   "metadata": {},
   "source": [
    "Test of Correlation Coefficient:\n",
    "$$\n",
    "t = \\frac{r\\sqrt{n-2}}{\\sqrt{1-r^2}} \\sim t(n-2)\n",
    "$$"
   ]
  },
  {
   "cell_type": "markdown",
   "id": "c59d9e08",
   "metadata": {},
   "source": [
    "### Implementation"
   ]
  },
  {
   "cell_type": "code",
   "execution_count": 4,
   "id": "99658c6d",
   "metadata": {},
   "outputs": [],
   "source": [
    "from scipy.stats import pearsonr"
   ]
  },
  {
   "cell_type": "code",
   "execution_count": 5,
   "id": "e3074973",
   "metadata": {},
   "outputs": [],
   "source": [
    "example_correlation = pd.read_csv('/Users/jianxiang/Research/Programming/Statistics/ultraman_vs_monster_data.csv')"
   ]
  },
  {
   "cell_type": "code",
   "execution_count": 7,
   "id": "ce88aee7",
   "metadata": {},
   "outputs": [
    {
     "name": "stdout",
     "output_type": "stream",
     "text": [
      "Intel MKL WARNING: Support of Intel(R) Streaming SIMD Extensions 4.2 (Intel(R) SSE4.2) enabled only processors has been deprecated. Intel oneAPI Math Kernel Library 2025.0 will require Intel(R) Advanced Vector Extensions (Intel(R) AVX) instructions.\n",
      "The correlation coefficient is  0.9602, p-value is  2.062e-11\n"
     ]
    }
   ],
   "source": [
    "corr, p_value = pearsonr(example_correlation['ultraman_power'], example_correlation['monster_strength'])\n",
    "print(f\"The correlation coefficient is {corr: .4g}, p-value is {p_value: .4g}\")"
   ]
  },
  {
   "cell_type": "markdown",
   "id": "46533690",
   "metadata": {},
   "source": [
    "## Uni-Variate (Simple) Linear Regression"
   ]
  },
  {
   "cell_type": "markdown",
   "id": "2e07b34b",
   "metadata": {},
   "source": [
    "### Uni-Variate Linear Regression Model and Equation"
   ]
  },
  {
   "cell_type": "markdown",
   "id": "6772a574",
   "metadata": {},
   "source": [
    "Uni-variate Linear Regression Model:\n",
    "$$y = \\beta_0 + \\beta_1x + \\epsilon$$"
   ]
  },
  {
   "cell_type": "markdown",
   "id": "929aa771",
   "metadata": {},
   "source": [
    "Estimated Regression Equation:\n",
    "$$\\hat{y}=\\hat{\\beta}_0 + \\hat{\\beta}_1x$$"
   ]
  },
  {
   "cell_type": "markdown",
   "id": "bf91c0b7",
   "metadata": {},
   "source": [
    "## Multi-Variate Linear Regression"
   ]
  },
  {
   "cell_type": "markdown",
   "id": "e810e814",
   "metadata": {},
   "source": [
    "# Stochastic Process"
   ]
  },
  {
   "cell_type": "markdown",
   "id": "19e3d9db",
   "metadata": {},
   "source": [
    "## Markov Process"
   ]
  },
  {
   "cell_type": "markdown",
   "id": "53ee30ac",
   "metadata": {},
   "source": [
    "### Markov Chain"
   ]
  },
  {
   "cell_type": "markdown",
   "id": "bd51de9f",
   "metadata": {},
   "source": [
    "#### State-Transition Matrix"
   ]
  },
  {
   "cell_type": "markdown",
   "id": "563863e0",
   "metadata": {},
   "source": [
    "Assume that a system has $m$ states, then:\n",
    "\n",
    "$$\\boldsymbol{P}_{m\\times m} = \\begin{bmatrix}p_{11} & \\cdots & p_{1m} \\\\ \\vdots & \\ddots &\\vdots \\\\ p_{m1} & \\cdots & p_{mm}\\end{bmatrix}$$\n",
    "\n",
    "$$p_{ij} = p(X_t = j|X_{t-1} = i)$$\n",
    "\n",
    "$\\forall i \\in [1, m] \\cap \\mathbb{N}$:\n",
    "\n",
    "$$\\sum_{j=1}^mp_{ij} = 1$$"
   ]
  },
  {
   "cell_type": "markdown",
   "id": "4b967073",
   "metadata": {},
   "source": [
    "#### State Distribution"
   ]
  },
  {
   "cell_type": "markdown",
   "id": "7fade784",
   "metadata": {},
   "source": [
    "##### Initial State"
   ]
  },
  {
   "cell_type": "markdown",
   "id": "111226bd",
   "metadata": {},
   "source": [
    "$$\\boldsymbol{\\pi}_0 = \\begin{bmatrix}\\pi_1 & \\pi_2 & \\cdots & \\pi_m\\end{bmatrix}$$\n",
    "\n",
    "where $\\pi_i \\geq 0\\land \\sum_{m}p_i = 1$"
   ]
  },
  {
   "cell_type": "markdown",
   "id": "60c31660",
   "metadata": {},
   "source": [
    "##### Any State"
   ]
  },
  {
   "cell_type": "markdown",
   "id": "d308f24d",
   "metadata": {},
   "source": [
    "$$\\boldsymbol{\\pi}_t = \\boldsymbol{\\pi}_{t-1}\\boldsymbol{P} = \\boldsymbol{\\pi}_0\\boldsymbol{P}^t$$"
   ]
  },
  {
   "cell_type": "markdown",
   "id": "3ba92774",
   "metadata": {},
   "source": [
    "### Reinforcement Learning"
   ]
  },
  {
   "cell_type": "markdown",
   "id": "5c0bbe4d",
   "metadata": {},
   "source": [
    "## Gaussian Process"
   ]
  },
  {
   "cell_type": "code",
   "execution_count": null,
   "id": "8a50b79a",
   "metadata": {},
   "outputs": [],
   "source": []
  }
 ],
 "metadata": {
  "kernelspec": {
   "display_name": "Python 3 (ipykernel)",
   "language": "python",
   "name": "python3"
  },
  "language_info": {
   "codemirror_mode": {
    "name": "ipython",
    "version": 3
   },
   "file_extension": ".py",
   "mimetype": "text/x-python",
   "name": "python",
   "nbconvert_exporter": "python",
   "pygments_lexer": "ipython3",
   "version": "3.9.13"
  },
  "toc": {
   "base_numbering": 1,
   "nav_menu": {},
   "number_sections": true,
   "sideBar": true,
   "skip_h1_title": false,
   "title_cell": "Table of Contents",
   "title_sidebar": "Contents",
   "toc_cell": false,
   "toc_position": {},
   "toc_section_display": true,
   "toc_window_display": true
  }
 },
 "nbformat": 4,
 "nbformat_minor": 5
}
